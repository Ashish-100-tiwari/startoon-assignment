{
 "cells": [
  {
   "cell_type": "markdown",
   "id": "228ece1a",
   "metadata": {},
   "source": [
    "# Coding Section"
   ]
  },
  {
   "cell_type": "code",
   "execution_count": 18,
   "id": "c3607ffe",
   "metadata": {},
   "outputs": [
    {
     "name": "stdout",
     "output_type": "stream",
     "text": [
      "True\n"
     ]
    }
   ],
   "source": [
    "def subset_sum_to_k(n, k, arr):\n",
    "    prev = [False] * (k + 1)\n",
    "    prev[0] = True\n",
    "    if arr[0] <= k:\n",
    "        prev[arr[0]] = True\n",
    "\n",
    "    for ind in range(1, n):\n",
    "        cur = [False] * (k + 1)\n",
    "        cur[0] = True\n",
    "        for target in range(1, k + 1):\n",
    "            not_taken = prev[target]\n",
    "            taken = False\n",
    "            if arr[ind] <= target:\n",
    "                taken = prev[target - arr[ind]]\n",
    "            cur[target] = not_taken or taken\n",
    "        prev = cur\n",
    "\n",
    "    return prev[k]\n",
    "\n",
    "def main():\n",
    "    arr = [4, 3, 5, 6, 4]\n",
    "    k = 15\n",
    "    n = len(arr)\n",
    "\n",
    "    if subset_sum_to_k(n, k, arr):\n",
    "        print(\"True\")\n",
    "    else:\n",
    "        print(\"False\")\n",
    "\n",
    "if __name__ == \"__main__\":\n",
    "    main()"
   ]
  },
  {
   "cell_type": "markdown",
   "id": "8a5b4f30",
   "metadata": {},
   "source": [
    "# Descriptive Section"
   ]
  },
  {
   "cell_type": "markdown",
   "id": "bdc25801",
   "metadata": {},
   "source": [
    " ### How Do You Handle Missing or Corrupted Data in a Dataset?"
   ]
  },
  {
   "cell_type": "markdown",
   "id": "132c3c4b",
   "metadata": {},
   "source": [
    "#### 1 Remove data: You can remove the rows with missing data (null or NaN values) from the dataset."
   ]
  },
  {
   "cell_type": "markdown",
   "id": "f7d73a1c",
   "metadata": {},
   "source": [
    "#### 2 Impute with mean, median, or mode: The null values can be replaced by a relevant mean, median, or mode value."
   ]
  },
  {
   "cell_type": "markdown",
   "id": "998011d0",
   "metadata": {},
   "source": [
    "#### 3 Impute with zero, constant, or recent value: The imputation in method 2 can also be tweaked to work for categorical data."
   ]
  },
  {
   "cell_type": "markdown",
   "id": "22e25683",
   "metadata": {},
   "source": [
    "#### 4 Impute using k-nearest neighbors: This method can impute values based on k-nearest neighbors in that column. "
   ]
  },
  {
   "cell_type": "markdown",
   "id": "50f67c18",
   "metadata": {},
   "source": [
    "#### 5 Predicting values: You can predict the values for a feature with missing values by using linear regression on the rest of the features. "
   ]
  },
  {
   "cell_type": "markdown",
   "id": "e37fac10",
   "metadata": {},
   "source": [
    "## What Are the Three Stages of Building a Model in Machine Learning"
   ]
  },
  {
   "cell_type": "markdown",
   "id": "d431b897",
   "metadata": {},
   "source": [
    "#### The three stages of building a machine learning model are:\n",
    "    \n",
    "#### Model Building :- Choose a suitable algorithm for the model and train it according to the requirement.\n",
    "    \n",
    "#### Model Testing:- Check the accuracy of the model through the test data.\n",
    "\n",
    "#### Applying the Model:-  Make the required changes after testing and use the final model for real-time projects."
   ]
  },
  {
   "cell_type": "code",
   "execution_count": null,
   "id": "be1d6a37",
   "metadata": {},
   "outputs": [],
   "source": []
  }
 ],
 "metadata": {
  "kernelspec": {
   "display_name": "Python 3 (ipykernel)",
   "language": "python",
   "name": "python3"
  },
  "language_info": {
   "codemirror_mode": {
    "name": "ipython",
    "version": 3
   },
   "file_extension": ".py",
   "mimetype": "text/x-python",
   "name": "python",
   "nbconvert_exporter": "python",
   "pygments_lexer": "ipython3",
   "version": "3.9.7"
  }
 },
 "nbformat": 4,
 "nbformat_minor": 5
}
